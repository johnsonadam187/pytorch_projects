{
  "nbformat": 4,
  "nbformat_minor": 0,
  "metadata": {
    "colab": {
      "name": "pytorch_basics.ipynb",
      "provenance": [],
      "collapsed_sections": [],
      "authorship_tag": "ABX9TyNTPJcHXYpEH0JN7PK8il+D",
      "include_colab_link": true
    },
    "kernelspec": {
      "name": "python3",
      "display_name": "Python 3"
    }
  },
  "cells": [
    {
      "cell_type": "markdown",
      "metadata": {
        "id": "view-in-github",
        "colab_type": "text"
      },
      "source": [
        "<a href=\"https://colab.research.google.com/github/johnsonadam187/pytorch_projects/blob/main/pytorch_basics.ipynb\" target=\"_parent\"><img src=\"https://colab.research.google.com/assets/colab-badge.svg\" alt=\"Open In Colab\"/></a>"
      ]
    },
    {
      "cell_type": "markdown",
      "metadata": {
        "id": "MC1VnewXnBEG"
      },
      "source": [
        "Standard imports"
      ]
    },
    {
      "cell_type": "code",
      "metadata": {
        "id": "K94b-fx9gdNW"
      },
      "source": [
        "import torch\r\n",
        "import pandas as pd\r\n",
        "import numpy as np\r\n",
        "import matplotlib.pyplot as plt"
      ],
      "execution_count": 1,
      "outputs": []
    },
    {
      "cell_type": "markdown",
      "metadata": {
        "id": "vS-P4Zn0nGL2"
      },
      "source": [
        "Creating a basic tensor in torch. Tensors can be scalar, vector, or matrix."
      ]
    },
    {
      "cell_type": "code",
      "metadata": {
        "id": "ppz9Ue1yg66y"
      },
      "source": [
        "tensor_1 = torch.tensor(4)"
      ],
      "execution_count": 2,
      "outputs": []
    },
    {
      "cell_type": "markdown",
      "metadata": {
        "id": "VPOTOQMknt-u"
      },
      "source": [
        "Tensors are like arrays in numpy or tensors for tensorflow. They have a host of accompanying methods"
      ]
    },
    {
      "cell_type": "code",
      "metadata": {
        "id": "VHF6U7YUnsq9"
      },
      "source": [
        "tensor_2 = torch.tensor([[1, 2],[3, 4],[5, 6]])"
      ],
      "execution_count": 3,
      "outputs": []
    },
    {
      "cell_type": "markdown",
      "metadata": {
        "id": "nbU2Z8Lko49f"
      },
      "source": [
        ".type() returns the tensor type"
      ]
    },
    {
      "cell_type": "code",
      "metadata": {
        "colab": {
          "base_uri": "https://localhost:8080/",
          "height": 35
        },
        "id": "Lmlvsinfow3Z",
        "outputId": "cf924dc2-c12f-480a-d9b2-9dcb6ff2b0d1"
      },
      "source": [
        "tensor_2.type()"
      ],
      "execution_count": 5,
      "outputs": [
        {
          "output_type": "execute_result",
          "data": {
            "application/vnd.google.colaboratory.intrinsic+json": {
              "type": "string"
            },
            "text/plain": [
              "'torch.LongTensor'"
            ]
          },
          "metadata": {
            "tags": []
          },
          "execution_count": 5
        }
      ]
    },
    {
      "cell_type": "markdown",
      "metadata": {
        "id": "jFMr-Fg9rlA1"
      },
      "source": [
        "Tensors have a different type, based on their content"
      ]
    },
    {
      "cell_type": "code",
      "metadata": {
        "colab": {
          "base_uri": "https://localhost:8080/",
          "height": 35
        },
        "id": "Q9MA0lnvrYfm",
        "outputId": "b0ecc64e-e1eb-4afb-e832-e47de6cbd8f7"
      },
      "source": [
        "tens = torch.tensor(2.5)\r\n",
        "tens.type()"
      ],
      "execution_count": 12,
      "outputs": [
        {
          "output_type": "execute_result",
          "data": {
            "application/vnd.google.colaboratory.intrinsic+json": {
              "type": "string"
            },
            "text/plain": [
              "'torch.FloatTensor'"
            ]
          },
          "metadata": {
            "tags": []
          },
          "execution_count": 12
        }
      ]
    },
    {
      "cell_type": "markdown",
      "metadata": {
        "id": "0FkT9Yb8pDdp"
      },
      "source": [
        "Tensors should be a matrix, unlike a list, the tensors structure is constrained by its shape, meaning that each row/ column/ dimension must be the same length. "
      ]
    },
    {
      "cell_type": "code",
      "metadata": {
        "colab": {
          "base_uri": "https://localhost:8080/",
          "height": 163
        },
        "id": "8lUEEQfQo0Mo",
        "outputId": "82307b09-2d25-4e3c-8f18-30b9eaa46463"
      },
      "source": [
        "tensor_fail = torch.tensor([[1, 2], [3, 4, 5]])"
      ],
      "execution_count": 6,
      "outputs": [
        {
          "output_type": "error",
          "ename": "ValueError",
          "evalue": "ignored",
          "traceback": [
            "\u001b[0;31m---------------------------------------------------------------------------\u001b[0m",
            "\u001b[0;31mValueError\u001b[0m                                Traceback (most recent call last)",
            "\u001b[0;32m<ipython-input-6-43467ab91cec>\u001b[0m in \u001b[0;36m<module>\u001b[0;34m()\u001b[0m\n\u001b[0;32m----> 1\u001b[0;31m \u001b[0mtensor_fail\u001b[0m \u001b[0;34m=\u001b[0m \u001b[0mtorch\u001b[0m\u001b[0;34m.\u001b[0m\u001b[0mtensor\u001b[0m\u001b[0;34m(\u001b[0m\u001b[0;34m[\u001b[0m\u001b[0;34m[\u001b[0m\u001b[0;36m1\u001b[0m\u001b[0;34m,\u001b[0m \u001b[0;36m2\u001b[0m\u001b[0;34m]\u001b[0m\u001b[0;34m,\u001b[0m \u001b[0;34m[\u001b[0m\u001b[0;36m3\u001b[0m\u001b[0;34m,\u001b[0m \u001b[0;36m4\u001b[0m\u001b[0;34m,\u001b[0m \u001b[0;36m5\u001b[0m\u001b[0;34m]\u001b[0m\u001b[0;34m]\u001b[0m\u001b[0;34m)\u001b[0m\u001b[0;34m\u001b[0m\u001b[0;34m\u001b[0m\u001b[0m\n\u001b[0m",
            "\u001b[0;31mValueError\u001b[0m: expected sequence of length 2 at dim 1 (got 3)"
          ]
        }
      ]
    },
    {
      "cell_type": "markdown",
      "metadata": {
        "id": "2aOK29kRqAh8"
      },
      "source": [
        "You can get the shape of a tensor using the standard .shape attribute."
      ]
    },
    {
      "cell_type": "code",
      "metadata": {
        "colab": {
          "base_uri": "https://localhost:8080/"
        },
        "id": "_sxbTV-Jp7_R",
        "outputId": "671e8825-6d9f-4327-b94d-6c308f9822de"
      },
      "source": [
        "tensor_2.shape"
      ],
      "execution_count": 7,
      "outputs": [
        {
          "output_type": "execute_result",
          "data": {
            "text/plain": [
              "torch.Size([3, 2])"
            ]
          },
          "metadata": {
            "tags": []
          },
          "execution_count": 7
        }
      ]
    },
    {
      "cell_type": "markdown",
      "metadata": {
        "id": "0e116goiqpwt"
      },
      "source": [
        "Tensors can use normal mathematical operations"
      ]
    },
    {
      "cell_type": "code",
      "metadata": {
        "id": "F-gyz-SxqLAS"
      },
      "source": [
        "x = torch.tensor(4.0, requires_grad=True)\r\n",
        "m = torch.tensor(8.0)\r\n",
        "c = torch.tensor(10.0, requires_grad=True)"
      ],
      "execution_count": 26,
      "outputs": []
    },
    {
      "cell_type": "code",
      "metadata": {
        "colab": {
          "base_uri": "https://localhost:8080/"
        },
        "id": "3Ke9WhBUrEtk",
        "outputId": "41271215-58b8-49f4-b594-ca55a548b1aa"
      },
      "source": [
        "y = m*x + c\r\n",
        "y"
      ],
      "execution_count": 27,
      "outputs": [
        {
          "output_type": "execute_result",
          "data": {
            "text/plain": [
              "tensor(42., grad_fn=<AddBackward0>)"
            ]
          },
          "metadata": {
            "tags": []
          },
          "execution_count": 27
        }
      ]
    },
    {
      "cell_type": "code",
      "metadata": {
        "colab": {
          "base_uri": "https://localhost:8080/",
          "height": 35
        },
        "id": "23tZgQUvrJCz",
        "outputId": "69e948fb-3a4c-464c-8705-ed7668a9abdb"
      },
      "source": [
        "y.type()"
      ],
      "execution_count": 28,
      "outputs": [
        {
          "output_type": "execute_result",
          "data": {
            "application/vnd.google.colaboratory.intrinsic+json": {
              "type": "string"
            },
            "text/plain": [
              "'torch.FloatTensor'"
            ]
          },
          "metadata": {
            "tags": []
          },
          "execution_count": 28
        }
      ]
    },
    {
      "cell_type": "markdown",
      "metadata": {
        "id": "Ci0baoo3r9i-"
      },
      "source": [
        "Requires_grad, is an argument that you can specify when instantiating a tensor. Tensors must be float to be able to specify requires_grad. When tensors are involved in a calculation (as above) You can use the .backward() function to store each contributing derivative in its .grad attribute. For instance in the previous example (y = mx + c), using the y.backward() function, will store derivatives dy/dm, dy/dx and dy/dc in m.grad, x.grad and c.grad respectively."
      ]
    },
    {
      "cell_type": "code",
      "metadata": {
        "id": "5UgreFkIrRgt"
      },
      "source": [
        "y.backward()"
      ],
      "execution_count": 29,
      "outputs": []
    },
    {
      "cell_type": "code",
      "metadata": {
        "colab": {
          "base_uri": "https://localhost:8080/"
        },
        "id": "DqZBor_nu8wP",
        "outputId": "c541813e-c34a-4888-c123-04cf8706d603"
      },
      "source": [
        "print(m.grad, x.grad, c.grad)"
      ],
      "execution_count": 31,
      "outputs": [
        {
          "output_type": "stream",
          "text": [
            "None tensor(8.) tensor(1.)\n"
          ],
          "name": "stdout"
        }
      ]
    },
    {
      "cell_type": "markdown",
      "metadata": {
        "id": "2MOzDDGQv4yD"
      },
      "source": [
        "Above the first derivative (m.grad) is listed as None type. This is because we didn't specify requires_grad. Also if we were to list y.grad it would be None type as it is at the end of the calculation, and hence the derivative with respect to another value is unable to be calculated."
      ]
    },
    {
      "cell_type": "code",
      "metadata": {
        "colab": {
          "base_uri": "https://localhost:8080/"
        },
        "id": "ILL85UZCvGdV",
        "outputId": "3819c645-a010-451f-9815-de9cd6bbe35b"
      },
      "source": [
        "y.grad"
      ],
      "execution_count": 33,
      "outputs": [
        {
          "output_type": "stream",
          "text": [
            "/usr/local/lib/python3.6/dist-packages/ipykernel_launcher.py:1: UserWarning: The .grad attribute of a Tensor that is not a leaf Tensor is being accessed. Its .grad attribute won't be populated during autograd.backward(). If you indeed want the gradient for a non-leaf Tensor, use .retain_grad() on the non-leaf Tensor. If you access the non-leaf Tensor by mistake, make sure you access the leaf Tensor instead. See github.com/pytorch/pytorch/pull/30531 for more informations.\n",
            "  \"\"\"Entry point for launching an IPython kernel.\n"
          ],
          "name": "stderr"
        }
      ]
    },
    {
      "cell_type": "code",
      "metadata": {
        "id": "yIB1ulDcwncg"
      },
      "source": [
        ""
      ],
      "execution_count": null,
      "outputs": []
    }
  ]
}